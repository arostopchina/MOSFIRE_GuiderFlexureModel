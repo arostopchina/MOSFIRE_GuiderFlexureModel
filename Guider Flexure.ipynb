{
 "cells": [
  {
   "cell_type": "markdown",
   "metadata": {},
   "source": [
    "# Overview\n",
    "\n",
    "1. Given a star at REFO of known coordinates, astrometrically solve for the center of the MOSFIRE imaging FoV and calculate the distance and angle on the sky between the two points.\n",
    "1. Subtract out the angle of the rotator (on the sky) to determine the distance (angle on the sky) and rotation (angle on instrument) between the two points.\n",
    "1. Given a number of these measurements, fit the relationship between telescope elevation, rotator physical angle, and the 2D separation of the guider and instrument FoV.\n",
    "1. Translate the differences to a motion of the guider (REFO) relative to the main instrument in units of guider pixels."
   ]
  },
  {
   "cell_type": "markdown",
   "metadata": {},
   "source": [
    "# Observing Procedure\n",
    "\n",
    "1. OA: Pick a pointing star near desired EL.\n",
    "1. OA: Choose rotator position angle (PA) near rotator drive angle 0.\n",
    "1. OA: Slew to star using PO REF (rotator mode should be PositionAngle).\n",
    "1. OA: Center star on REF using Ca, Ce adjustments and begin guiding.\n",
    "1. SA: Note guide star name and coordinates (for insurance).\n",
    "1. SA: Image field in J-band.\n",
    "1. OA: Rotate 45 degrees (rotator mode should be PositionAngle).\n",
    "1. OA: Center star on REF using Ca, Ce adjustments and begin guiding.\n",
    "1. SA: Note guide star name and coordinates (for insurance).\n",
    "1. SA: Image field in J-band.\n",
    "1. Keep repeating steps 7-10 until you have rotated 360 degrees.\n",
    "1. Then repeat for a new EL."
   ]
  },
  {
   "cell_type": "markdown",
   "metadata": {},
   "source": [
    "## Data Table\n",
    "\n",
    "Raw data: for each image, fill in:\n",
    "1. file name\n",
    "1. telescope elevation\n",
    "1. instrument PA\n",
    "1. guider RA\n",
    "1. guider Dec\n",
    "\n",
    "Loop through all elements of the data table and derive the values in the measurements table.\n",
    "\n",
    "From the image data, we derive:\n",
    "1. the Measured Sky Angle: PA (East of North) between guider and instrument FoV.\n",
    "1. the Physical Angle: The Angle between them after the instrument PA has been subtracted off.  This should be constant other than flexure.\n",
    "1. the Separation: distance (in arcsec) between the two FoVs.  This should be constant other than flexure."
   ]
  },
  {
   "cell_type": "markdown",
   "metadata": {},
   "source": [
    "Relevant MOSFIRE keywords:\n",
    "\n",
    "`show -s mosfire SKYPA0 SKYPA1 SKYPA2 SKYPA3 FCPA_EL`\n",
    "\n",
    "MOSFIRE FITS header keywords:\n",
    "\n",
    "`SKYPA0 SKYPA1 SKYPA2 SKYPA3 FCPA_EL`"
   ]
  },
  {
   "cell_type": "code",
   "execution_count": 3,
   "metadata": {},
   "outputs": [],
   "source": [
    "from pathlib import Path\n",
    "\n",
    "import ccdproc\n",
    "from ccdproc import ImageFileCollection\n",
    "\n",
    "from astropy.table import QTable\n",
    "from astropy import coordinates as c\n",
    "from astropy import units as u\n",
    "import numpy as np"
   ]
  },
  {
   "cell_type": "code",
   "execution_count": 12,
   "metadata": {},
   "outputs": [],
   "source": [
    "table_file = Path('~/KeckData/MOSFIRE_GuiderFlexure/ImageResults.txt').expanduser()\n",
    "t = QTable.read(table_file, format='ascii')"
   ]
  },
  {
   "cell_type": "code",
   "execution_count": 13,
   "metadata": {},
   "outputs": [
    {
     "data": {
      "text/html": [
       "<i>QTable length=1</i>\n",
       "<table id=\"table47794505432\" class=\"table-striped table-bordered table-condensed\">\n",
       "<thead><tr><th>Filename</th><th>EL</th><th>PA</th><th>RotAng</th><th>GuiderCoord</th><th>ImageCoord</th><th>Offset Distance</th><th>Offset Angle</th></tr></thead>\n",
       "<thead><tr><th></th><th>deg</th><th>deg</th><th>deg</th><th></th><th></th><th>arcsec</th><th>deg</th></tr></thead>\n",
       "<thead><tr><th>str17</th><th>float64</th><th>float64</th><th>float64</th><th>str24</th><th>str24</th><th>float64</th><th>float64</th></tr></thead>\n",
       "<tr><td>m170707_0490.fits</td><td>28.39876332</td><td>0.16131778</td><td>-85.44270876</td><td>16:40:39.95 +36:20:52.88</td><td>16:40:40.28 +36:20:50.38</td><td>4.640089552243393</td><td>302.48397005104687</td></tr>\n",
       "</table>"
      ],
      "text/plain": [
       "<QTable length=1>\n",
       "     Filename          EL     ...  Offset Distance     Offset Angle   \n",
       "                      deg     ...       arcsec             deg        \n",
       "      str17         float64   ...      float64           float64      \n",
       "----------------- ----------- ... ----------------- ------------------\n",
       "m170707_0490.fits 28.39876332 ... 4.640089552243393 302.48397005104687"
      ]
     },
     "execution_count": 13,
     "metadata": {},
     "output_type": "execute_result"
    }
   ],
   "source": [
    "t"
   ]
  },
  {
   "cell_type": "code",
   "execution_count": 14,
   "metadata": {},
   "outputs": [
    {
     "data": {
      "text/latex": [
       "$\\mathrm{{}^{\\prime\\prime}}$"
      ],
      "text/plain": [
       "Unit(\"arcsec\")"
      ]
     },
     "execution_count": 14,
     "metadata": {},
     "output_type": "execute_result"
    }
   ],
   "source": [
    "t['Offset Distance'].unit"
   ]
  },
  {
   "cell_type": "code",
   "execution_count": null,
   "metadata": {},
   "outputs": [],
   "source": []
  },
  {
   "cell_type": "code",
   "execution_count": null,
   "metadata": {},
   "outputs": [],
   "source": []
  },
  {
   "cell_type": "code",
   "execution_count": null,
   "metadata": {},
   "outputs": [],
   "source": []
  },
  {
   "cell_type": "code",
   "execution_count": null,
   "metadata": {},
   "outputs": [],
   "source": []
  },
  {
   "cell_type": "code",
   "execution_count": null,
   "metadata": {},
   "outputs": [],
   "source": []
  }
 ],
 "metadata": {
  "kernelspec": {
   "display_name": "Python 3",
   "language": "python",
   "name": "python3"
  },
  "language_info": {
   "codemirror_mode": {
    "name": "ipython",
    "version": 3
   },
   "file_extension": ".py",
   "mimetype": "text/x-python",
   "name": "python",
   "nbconvert_exporter": "python",
   "pygments_lexer": "ipython3",
   "version": "3.6.8"
  }
 },
 "nbformat": 4,
 "nbformat_minor": 2
}
